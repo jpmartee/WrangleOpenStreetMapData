{
 "cells": [
  {
   "cell_type": "markdown",
   "metadata": {},
   "source": [
    "#Introduction"
   ]
  },
  {
   "cell_type": "markdown",
   "metadata": {},
   "source": [
    "For this project, we will be auditing and cleaning OpenStreetMap data for Santa Cruz County in California. During the course, we looked at OSM data for Chicago and found inconsistencies in street name abbreviations and postal codes. We will look for the same problems in the Santa Cruz data. After cleaning it up, we will rewrite the data as a JSON file and upload it to MongoDB. We can use MongoDB to write queries on the data. A view of the area can be seen at http://www.openstreetmap.org/relation/396473."
   ]
  },
  {
   "cell_type": "markdown",
   "metadata": {},
   "source": [
    "# Auditing the Data\n",
    "##Street Name Abbreviations\n",
    "We don't want any abbreviated street names in our data. We expect the last word of each street name to be Street, Avenue, Road, etc. We'll parse through the street names in this set and create a dictionary of unexpected and abbreviated values using *auditing/auditStreetNames.py*.\n",
    "\n",
    "We have a lot of unexpected endings, 105 to be exact. Although not all of these are invalid. Some are correct endings that we just didn't initally think of, like Circle, Highway, and Terrace. There are a few Avenues, Roads, Drives, and Streets written as Ave, Rd, Dr, and St respectively. To make the data consistent, we want to chage Ave to Avenue, Rd to Road, etc. We also want to look up Cedar, Chestnut, Front, Merrill, Pacific, and Seabright on another map and see if they are Streets, Avenues, or Roads and change them accordingly. Highway 9 should be wirtten out consistently. Right now it is written in three different ways. "
   ]
  },
  {
   "cell_type": "markdown",
   "metadata": {},
   "source": [
    "##Postal Code Inconsistencies\n",
    "We now want to look at our set of postal codes. We can write a code similar to our street name audit to print the set of postal codes in our data. There is no need for a dictionary since we want to look at the full postal code entry. Instead we'll just create the set of all postal codes by running *auditing/auditPostcodes.py*.\n",
    "\n",
    "Some of the postal codes are in 9 digit form instead of the more common 5 digit form, and the last two of the set begin with CA. There is also an entry 1982, which isn't a postal code at all. It is hard to guess what the user meant without looking at the entire entry. I looked up all of the postal codes to make sure they are part of Santa Cruz County. The only out of place code is 95003, which is Alviso, CA, a town just north of San Jose, CA. We will look at the full entry in MongoDB to try to make sense of it.\n"
   ]
  },
  {
   "cell_type": "markdown",
   "metadata": {},
   "source": [
    "##Converting OSM to JSON"
   ]
  },
  {
   "cell_type": "markdown",
   "metadata": {},
   "source": [
    "Before we upload the data to MongoDB, we have to rewrite it in JSON form. We only want to process top-level tags \"node\" and \"way\", turning their attributes in key/value pairs, except: \n",
    "- attributes in the CREATED array should be added under a key \"created\"\n",
    "- attributes for latitude and longitude should be added to a \"pos\" array,\n",
    "  for use in geospacial indexing. Make sure the values inside \"pos\" array are floats\n",
    "  and not strings. \n",
    "- if second level tag \"k\" value contains problematic characters, it should be ignored\n",
    "- if second level tag \"k\" value starts with \"addr:\", it should be added to a dictionary \"address\"\n",
    "- if second level tag \"k\" value does not start with \"addr:\", but contains \":\", you can process it\n",
    "  same as any other tag.\n",
    "- if there is a second \":\" that separates the type/direction of a street,\n",
    "  the tag should be ignored.\n",
    "- for \"way\" specifically, tags starting with \"nd ref\" should be added to array called \"node_refs\".\n",
    "\n",
    "We will also extend street name abbreviations and add Avenue or Street to the proper street names. Postal codes, aside from 1982, will be converted to a 5-digit form. We do this by running *auditing/processMap.py*."
   ]
  },
  {
   "cell_type": "markdown",
   "metadata": {},
   "source": [
    "###A Note on id's\n",
    "\n",
    "\n",
    "When we upload our data into MongoDB, each entry will be assigned a unique id under '_id'. Our data already has an id field, but in order to use it we have to make sure that each 'id' is truely unique in our OSM file. If so, we'll have to match the id value to the '_id' key instead of a 'id' key. \n",
    "If we try to write code to check for uniqueness, we'll essentially have to compare over 250,000 lines against each other. This would take a ton of time to compute so instead I looked up how id's in OSM are created and found this: http://gis.stackexchange.com/questions/103572/are-osm-ids-unique-over-all-object-types. One user claims that OSM id's are composed of type of object, id, version, and combination of tags. Though it is highly unlikely, there is still a possibility that a node and way have the same id number. The larger the file, the more likely it is that we run into a problem. We'll let MongoDB assign unique numbers to the '_id' field.\n",
    "\n",
    "This completes auditing and cleaning the data for now. We can now upload the data to MongoDB and explore the data. If necessary, more cleaning can be done there."
   ]
  },
  {
   "cell_type": "markdown",
   "metadata": {},
   "source": [
    "#Exploring the Data\n",
    "\n",
    "We have uploaded the data as a collection santacruz into a database called maps. There are two options for looking at the data, either through the command line or with python using the pymongo library. Since we are working in an iPython Notebook we will use pymongo. The commands are very similar if not the same."
   ]
  },
  {
   "cell_type": "markdown",
   "metadata": {},
   "source": [
    "##Size"
   ]
  },
  {
   "cell_type": "code",
   "execution_count": 1,
   "metadata": {
    "collapsed": false
   },
   "outputs": [
    {
     "data": {
      "text/plain": [
       "81710880.0"
      ]
     },
     "execution_count": 1,
     "metadata": {},
     "output_type": "execute_result"
    }
   ],
   "source": [
    "from pymongo import MongoClient\n",
    "\n",
    "client = MongoClient()\n",
    "db = client['maps']\n",
    "db.command(\"dbstats\")['dataSize']"
   ]
  },
  {
   "cell_type": "markdown",
   "metadata": {},
   "source": [
    "The size of the santacruz collection is just under 82 MB."
   ]
  },
  {
   "cell_type": "markdown",
   "metadata": {},
   "source": [
    "##Entry Types"
   ]
  },
  {
   "cell_type": "code",
   "execution_count": 2,
   "metadata": {
    "collapsed": false
   },
   "outputs": [
    {
     "name": "stdout",
     "output_type": "stream",
     "text": [
      "Number of documents: 278190\n",
      "\n",
      "Number of nodes: 257306\n",
      "\n",
      "Number of ways: 20804\n"
     ]
    }
   ],
   "source": [
    "import pprint\n",
    "\n",
    "docs = db.santacruz.find().count()\n",
    "nodes = db.santacruz.find({'type':'node'}).count()\n",
    "ways = db.santacruz.find({'type':'way'}).count()\n",
    "\n",
    "print 'Number of documents:', docs\n",
    "print '\\nNumber of nodes:', nodes\n",
    "print '\\nNumber of ways:', ways"
   ]
  },
  {
   "cell_type": "markdown",
   "metadata": {},
   "source": [
    "##Users"
   ]
  },
  {
   "cell_type": "code",
   "execution_count": 3,
   "metadata": {
    "collapsed": false
   },
   "outputs": [
    {
     "name": "stdout",
     "output_type": "stream",
     "text": [
      "Unique users: 395\n",
      "\n",
      "Top 10 contributing users\n",
      "{u'_id': u'stevea', u'contributions': 158863}\n",
      "{u'_id': u'nmixter', u'contributions': 41746}\n",
      "{u'_id': u'DanHomerick', u'contributions': 25696}\n",
      "{u'_id': u'Apo42', u'contributions': 5822}\n",
      "{u'_id': u'adelman', u'contributions': 5339}\n",
      "{u'_id': u'woodpeck_fixbot', u'contributions': 4546}\n",
      "{u'_id': u'Chris Lawrence', u'contributions': 3017}\n",
      "{u'_id': u'hrutten', u'contributions': 2246}\n",
      "{u'_id': u'RichRico', u'contributions': 1679}\n",
      "{u'_id': u'ZekeFarwell', u'contributions': 1403}\n"
     ]
    }
   ],
   "source": [
    "users = db.santacruz.distinct('created.user')\n",
    "\n",
    "top_users = db.santacruz.aggregate([\n",
    "        {'$group': {'_id':'$created.user', 'contributions':{'$sum':1}}},\n",
    "        {'$sort':{'contributions':-1}},\n",
    "        {'$limit':10}\n",
    "    ])\n",
    "\n",
    "print 'Unique users:', len(users)\n",
    "print '\\nTop 10 contributing users'\n",
    "for doc in top_users:\n",
    "    print doc"
   ]
  },
  {
   "cell_type": "markdown",
   "metadata": {},
   "source": [
    "Note that user stevea has contributed 158863, or 57.1%, of the documents in our collection. According to his wiki, he is very involved in the OSM project in Northen California, specifially in Santa Cruz, Monterey Bay, Silicon Valley, and South Bay. Stevea is interested in imporoving parks, trails, and bike routes starting with Santa Cruz. Along with some professors, stevea hosts mapping parties at UC Santa Cruz. You can read about him on his OSM wiki: http://wiki.openstreetmap.org/wiki/User:Stevea. "
   ]
  },
  {
   "cell_type": "markdown",
   "metadata": {},
   "source": [
    "##Addresses"
   ]
  },
  {
   "cell_type": "code",
   "execution_count": 4,
   "metadata": {
    "collapsed": false
   },
   "outputs": [
    {
     "name": "stdout",
     "output_type": "stream",
     "text": [
      "Postal codes\n",
      "{u'count': 288, u'_id': u'95064'}\n",
      "{u'count': 36, u'_id': u'95060'}\n",
      "{u'count': 12, u'_id': u'95062'}\n",
      "{u'count': 10, u'_id': u'95018'}\n",
      "{u'count': 9, u'_id': u'95066'}\n",
      "{u'count': 7, u'_id': u'95003'}\n",
      "{u'count': 6, u'_id': u'95073'}\n",
      "{u'count': 6, u'_id': u'95010'}\n",
      "{u'count': 5, u'_id': u'95065'}\n",
      "{u'count': 1, u'_id': u'95002'}\n",
      "{u'count': 1, u'_id': u'95041'}\n"
     ]
    }
   ],
   "source": [
    "postcodes = db.santacruz.aggregate([\n",
    "        {'$match':{'address.postcode':{'$exists':1}}},\n",
    "        {'$group':{'_id':'$address.postcode', 'count':{'$sum':1}}},\n",
    "        {'$sort':{'count':-1}}\n",
    "    ])"
   ]
  },
  {
   "cell_type": "markdown",
   "metadata": {},
   "source": [
    "The overwhelming majority of documents do not include a postal code in the address section. Of those that do, most are coming from the UC Santa Cruz campus. Let's see if street names follow this trend."
   ]
  },
  {
   "cell_type": "code",
   "execution_count": 5,
   "metadata": {
    "collapsed": false
   },
   "outputs": [
    {
     "name": "stdout",
     "output_type": "stream",
     "text": [
      "Street names\n",
      "{u'count': 35, u'_id': u'Porter-Kresge Road'}\n",
      "{u'count': 20, u'_id': u'Village Road'}\n",
      "{u'count': 18, u'_id': u'Stevenson Service Road'}\n",
      "{u'count': 16, u'_id': u'East Road'}\n",
      "{u'count': 16, u'_id': u'Mount Hermon Road'}\n",
      "{u'count': 14, u'_id': u'Steinhart Way'}\n",
      "{u'count': 14, u'_id': u'Pacific Avenue'}\n",
      "{u'count': 14, u'_id': u'College Eight Service Road'}\n",
      "{u'count': 14, u'_id': u'Cowell-Stevenson Road'}\n",
      "{u'count': 13, u'_id': u'Heller Drive'}\n",
      "{u'count': 13, u'_id': u'Emeline Avenue'}\n",
      "{u'count': 11, u'_id': u'Merrill Road'}\n",
      "{u'count': 10, u'_id': u'Crown Service Road'}\n",
      "{u'count': 10, u'_id': u'College Ten Road'}\n",
      "{u'count': 10, u'_id': u'Soquel Avenue'}\n"
     ]
    }
   ],
   "source": [
    "streetnames = db.santacruz.aggregate([\n",
    "        {'$match':{'address.street':{'$exists':1}}},\n",
    "        {'$group':{'_id':'$address.street', 'count':{'$sum':1}}},\n",
    "        {'$sort':{'count':-1}},\n",
    "        {'$limit':15}\n",
    "    ])\n",
    "\n",
    "print \"Street names\"\n",
    "for doc in streetnames:\n",
    "    print doc"
   ]
  },
  {
   "cell_type": "markdown",
   "metadata": {},
   "source": [
    "As expected, only three streets from the list above are off campus. Looking at this data I realize that we may have made a mistake earlier while cleaning the street names. I assumed that Merrill was meant to be Merrill Street in the actual town of Santa Cruz. Since Merrill Road is in the top 15 most common names, it is likely that Merrill was supposed to be Merrill Road. Let's take a look at Merril Street entries, and if necessary, we'll edit the street name."
   ]
  },
  {
   "cell_type": "code",
   "execution_count": 6,
   "metadata": {
    "collapsed": false
   },
   "outputs": [
    {
     "name": "stdout",
     "output_type": "stream",
     "text": [
      "[{u'_id': ObjectId('5647e57267df1b2b7ef62aab'),\n",
      "  u'address': {u'housenumber': u'2039',\n",
      "               u'postcode': u'95062',\n",
      "               u'street': u'Merrill Street'},\n",
      "  u'amenity': u'school',\n",
      "  u'created': {u'changeset': u'11504010',\n",
      "               u'timestamp': u'2012-05-05T03:58:04Z',\n",
      "               u'uid': u'633791',\n",
      "               u'user': u'sla29970',\n",
      "               u'version': u'1'},\n",
      "  u'id': u'1741019936',\n",
      "  u'name': u'Cypress Charter High School',\n",
      "  u'pos': [36.9650004, -121.9831159],\n",
      "  u'type': u'node'}]\n"
     ]
    }
   ],
   "source": [
    "pprint.pprint(list(db.santacruz.find({'address.street':'Merrill Street'})))"
   ]
  },
  {
   "cell_type": "markdown",
   "metadata": {},
   "source": [
    "This time our assumption was correct. In the future we should be careful of streets of the same name but different type."
   ]
  },
  {
   "cell_type": "markdown",
   "metadata": {},
   "source": [
    "##Amenities"
   ]
  },
  {
   "cell_type": "code",
   "execution_count": 7,
   "metadata": {
    "collapsed": false
   },
   "outputs": [
    {
     "name": "stdout",
     "output_type": "stream",
     "text": [
      "Top 10 Amenities\n",
      "{u'count': 947, u'_id': u'parking'}\n",
      "{u'count': 266, u'_id': u'bicycle_parking'}\n",
      "{u'count': 249, u'_id': u'restaurant'}\n",
      "{u'count': 221, u'_id': u'toilets'}\n",
      "{u'count': 194, u'_id': u'bench'}\n",
      "{u'count': 145, u'_id': u'place_of_worship'}\n",
      "{u'count': 107, u'_id': u'school'}\n",
      "{u'count': 99, u'_id': u'recycling'}\n",
      "{u'count': 90, u'_id': u'cafe'}\n",
      "{u'count': 67, u'_id': u'fast_food'}\n"
     ]
    }
   ],
   "source": [
    "amenity = db.santacruz.aggregate([\n",
    "        {'$match':{'amenity':{'$exists':1}}},\n",
    "        {'$group':{'_id':'$amenity', 'count':{'$sum':1}}},\n",
    "        {'$sort':{'count':-1}},\n",
    "        {'$limit':10}\n",
    "    ])\n",
    "\n",
    "print 'Top 10 Amenities'\n",
    "for doc in amenity:\n",
    "    print doc"
   ]
  },
  {
   "cell_type": "markdown",
   "metadata": {},
   "source": [
    "It may seem surprising that the two most common amenity tags are parking and bicycle_parking. But our top contributor stevea is the the author of a local bicycle network numbering protocol, CycleNet."
   ]
  },
  {
   "cell_type": "markdown",
   "metadata": {},
   "source": [
    "##Other"
   ]
  },
  {
   "cell_type": "code",
   "execution_count": 8,
   "metadata": {
    "collapsed": false
   },
   "outputs": [
    {
     "name": "stdout",
     "output_type": "stream",
     "text": [
      "Most popular cuisine\n",
      "{u'count': 44, u'_id': u'mexican'}\n",
      "{u'count': 27, u'_id': u'pizza'}\n",
      "{u'count': 24, u'_id': u'chinese'}\n",
      "{u'count': 15, u'_id': u'burger'}\n",
      "{u'count': 14, u'_id': u'italian'}\n",
      "\n",
      "Religions\n",
      "{u'count': 83, u'_id': u'christian'}\n",
      "{u'count': 4, u'_id': u'buddhist'}\n",
      "{u'count': 3, u'_id': u'jewish'}\n",
      "{u'count': 1, u'_id': u'muslim'}\n",
      "{u'count': 1, u'_id': u'pagan'}\n",
      "\n",
      "Christian denominations\n",
      "{u'count': 11, u'_id': u'baptist'}\n",
      "{u'count': 8, u'_id': u'catholic'}\n",
      "{u'count': 4, u'_id': u'presbyterian'}\n",
      "{u'count': 4, u'_id': u'jehovahs_witness'}\n",
      "{u'count': 3, u'_id': u'lutheran'}\n"
     ]
    }
   ],
   "source": [
    "cuisine = db.santacruz.aggregate([\n",
    "        {'$match':{'cuisine':{'$exists':1}}},\n",
    "        {'$group':{'_id':'$cuisine', 'count':{'$sum':1}}},\n",
    "        {'$sort':{'count':-1}},\n",
    "        {'$limit':5}\n",
    "    ])\n",
    "\n",
    "religion = db.santacruz.aggregate([\n",
    "        {'$match':{'religion':{'$exists':1}}},\n",
    "        {'$group':{'_id':'$religion', 'count':{'$sum':1}}},\n",
    "        {'$sort':{'count':-1}}      \n",
    "    ])\n",
    "\n",
    "denomination = db.santacruz.aggregate([\n",
    "        {'$match':{'religion':'christian','denomination':{'$exists':1}}},\n",
    "        {'$group':{'_id':'$denomination', 'count':{'$sum':1}}},\n",
    "        {'$sort':{'count':-1}},\n",
    "        {'$limit':5}\n",
    "    ])\n",
    "\n",
    "print 'Most popular cuisine'\n",
    "for doc in cuisine:\n",
    "    print doc\n",
    "    \n",
    "print '\\nReligions'\n",
    "for doc in religion:\n",
    "    print doc\n",
    "    \n",
    "print '\\nChristian denominations'\n",
    "for doc in denomination:\n",
    "    print doc"
   ]
  },
  {
   "cell_type": "markdown",
   "metadata": {},
   "source": [
    "#Conclusion"
   ]
  },
  {
   "cell_type": "markdown",
   "metadata": {},
   "source": [
    "The original Santa Cruz data was relatively clean. There were not that many over abbreviated streets and most zip codes were in proper 5-digit form. We saw that a fraction of a percent of docs have postal codes. We can sort of see why. In the top 10 amenities we have parking spots, bicycle parking, toilets, and benches. These amenities don't necessarily need specific addresses or postal codes. With that said, the amount of restaurants and places of worship outnumber the amout of documents with postal codes. Therefore, the data can be improved by adding complete addresses where needed. \n",
    "\n",
    "Adding postal codes to addresses can be quite challenging. Not all documents include a city. We can use a different strategy, like basing postal codes on streets. But if we try to update postal codes based on street names, we run into problems when streets, such as Soquel Avenue, span multiple cities. With some knowledge of Santa Cruz County, we can write code for streets that we know span just one area. For example, if we know that Pacific Avenue has a beginning and end within the postal code 95060, then we can update the postal code for all documents with street Pacific Avenue.\n",
    "\n",
    "We will always need to audit and clean our data, but the process can be made easier if we have accurate user input. I suggest that anyone interested in inputing or cleaning OSM data for Santa Cruz to get in touch with users in the area, such as stevea, as he is trying to develop practice for consistent input and refine tags that are used for specific amenities. It sounds like a fun project to take on as a hobby!"
   ]
  }
 ],
 "metadata": {
  "kernelspec": {
   "display_name": "Python 2",
   "language": "python",
   "name": "python2"
  },
  "language_info": {
   "codemirror_mode": {
    "name": "ipython",
    "version": 2
   },
   "file_extension": ".py",
   "mimetype": "text/x-python",
   "name": "python",
   "nbconvert_exporter": "python",
   "pygments_lexer": "ipython2",
   "version": "2.7.10"
  }
 },
 "nbformat": 4,
 "nbformat_minor": 0
}
