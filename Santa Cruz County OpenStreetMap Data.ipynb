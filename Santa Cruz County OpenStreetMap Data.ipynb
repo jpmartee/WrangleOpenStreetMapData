{
 "cells": [
  {
   "cell_type": "markdown",
   "metadata": {},
   "source": [
    "#Introduction"
   ]
  },
  {
   "cell_type": "markdown",
   "metadata": {},
   "source": [
    "For this project, we will be auditing and cleaning OpenStreetMap data for Santa Cruz County in California. During the course, we looked at OSM data for Chicago and found inconsistencies in street name abbreviations and postal codes. We will look for the same problems in the Santa Cruz data. After cleaning it up, we will rewrite the data as a JSON file and upload it to MongoDB. We can use MongoDB to explore the data and make any more changes if necessary. "
   ]
  },
  {
   "cell_type": "markdown",
   "metadata": {},
   "source": [
    "# Auditing the Data\n",
    "##Street Name Abbreviations\n",
    "We don't want any abbreviated street names in our data. We expect the last word of each street name to be Street, Avenue, Road, etc. We'll parse through the street names in this set and create a dictionary of unexpected and abbreviated values."
   ]
  },
  {
   "cell_type": "code",
   "execution_count": 2,
   "metadata": {
    "collapsed": false
   },
   "outputs": [
    {
     "name": "stdout",
     "output_type": "stream",
     "text": [
      "{'245': set(['245']),\n",
      " '9': set(['Highway 9', 'Hwy 9', 'Hwy. 9']),\n",
      " 'Ave': set(['220 Sylvania Ave', '41st Ave', 'Chanticleer Ave']),\n",
      " 'Cedar': set(['Cedar']),\n",
      " 'Chestnut': set(['Chestnut']),\n",
      " 'Circle': set(['Baskin Circle']),\n",
      " 'Esplanade': set(['Esplanade']),\n",
      " 'Extension': set(['Mission Street Extension']),\n",
      " 'Front': set(['Front']),\n",
      " 'Gulch': set(['Rodeo Creek Gulch']),\n",
      " 'Loop': set(['Engineering Loop']),\n",
      " 'Mar': set(['Rancho Del Mar']),\n",
      " 'Merrill': set(['Merrill']),\n",
      " 'Pacific': set(['Pacific']),\n",
      " 'Ramps': set(['@ Pasatiempo Sb Ramps']),\n",
      " 'Rd': set(['Mount Hermon Rd']),\n",
      " 'Seabright': set(['Seabright']),\n",
      " 'St': set(['225 Rooney St']),\n",
      " 'front': set(['front'])}\n"
     ]
    }
   ],
   "source": [
    "import xml.etree.cElementTree as ET\n",
    "from collections import defaultdict\n",
    "import re\n",
    "import pprint\n",
    "\n",
    "OSMFILE = \"santa-cruz_california.osm\"\n",
    "street_type_re = re.compile(r'\\b\\S+\\.?$', re.IGNORECASE)\n",
    "\n",
    "# Acceptable street types\n",
    "expected = [\"Street\", \"Avenue\", \"Boulevard\", \"Drive\", \"Court\", \"Place\", \"Square\", \n",
    "            \"Lane\", \"Road\", \"Trail\", \"Parkway\", \"Commons\", \"Way\"]\n",
    "\n",
    "# Search for unexpected street types and add to a dictionary\n",
    "def audit_street_type(street_types, street_name):\n",
    "    m = street_type_re.search(street_name)\n",
    "    if m:\n",
    "        street_type = m.group()\n",
    "        if street_type not in expected:\n",
    "            street_types[street_type].add(street_name)\n",
    "\n",
    "# Check if element key is addr:street\n",
    "def is_street_name(elem):\n",
    "    return (elem.attrib['k'] == \"addr:street\")\n",
    "\n",
    "# Puts all above pieces together\n",
    "def audit(osmfile):\n",
    "    osm_file = open(osmfile, \"r\")\n",
    "    street_types = defaultdict(set)\n",
    "    for event, elem in ET.iterparse(osm_file, events=(\"start\",)):\n",
    "\n",
    "        if elem.tag == \"node\" or elem.tag == \"way\":\n",
    "            for tag in elem.iter(\"tag\"):\n",
    "                if is_street_name(tag):\n",
    "                    audit_street_type(street_types, tag.attrib['v'])\n",
    "\n",
    "    return street_types\n",
    "\n",
    "st_types = audit(OSMFILE)\n",
    "pprint.pprint(dict(st_types))\n"
   ]
  },
  {
   "cell_type": "markdown",
   "metadata": {},
   "source": [
    "There are a few Avenues, Roads, and Streets written as Ave, Rd, and St respectively. To make the data consistent, we want to chage Ave to Avenue, Rd to Road, and St to Street. We also want to look up Cedar, Chestnut, Front, Merrill, Pacific, and Seabright on another map and see if they are Streets, Avenues, or Roads and change them accordingly. \n",
    "\n",
    "The rest of the unexpected street name endings seem legitimate except for the entry that is just 245. We can look at the full version of this document once we have our data in MongoDB. It is most likely supposed to be a housenumber or apartment number. \n",
    "\n",
    "Highway 9 should be wirtten out consistently. Right now it is written in three different ways. We will perform these tasks as we write the JSON version of the file a little later.  "
   ]
  },
  {
   "cell_type": "markdown",
   "metadata": {},
   "source": [
    "##Postal Code Inconsistencies\n",
    "We now want to look at our set of postal codes. We can write a code similar to our street name audit to print the set of postal codes in our data. There is no need for a dictionary since we want to look at the full postal code entry. Instead we'll just create the set of all postal codes.\n"
   ]
  },
  {
   "cell_type": "code",
   "execution_count": 4,
   "metadata": {
    "collapsed": false
   },
   "outputs": [
    {
     "name": "stdout",
     "output_type": "stream",
     "text": [
      "set(['1982',\n",
      "     '95002',\n",
      "     '95003',\n",
      "     '95010',\n",
      "     '95018',\n",
      "     '95041',\n",
      "     '95060',\n",
      "     '95062',\n",
      "     '95062-4205',\n",
      "     '95064',\n",
      "     '95065',\n",
      "     '95065-1711',\n",
      "     '95066',\n",
      "     '95066-4024',\n",
      "     '95066-5121',\n",
      "     '95073',\n",
      "     'CA 95062',\n",
      "     'CA 95065'])\n"
     ]
    }
   ],
   "source": [
    "def is_postcode(elem):\n",
    "    return (elem.attrib['k'] == \"addr:postcode\")\n",
    "\n",
    "\n",
    "def audit_postcode(osmfile):\n",
    "    osm_file = open(osmfile, \"r\")\n",
    "    postcodes = set()\n",
    "    for event, elem in ET.iterparse(osm_file, events=(\"start\",)):\n",
    "\n",
    "        if elem.tag == \"node\" or elem.tag == \"way\":\n",
    "            for tag in elem.iter(\"tag\"):\n",
    "                if is_postcode(tag):\n",
    "                    postcodes.add(tag.attrib['v'])\n",
    "    return postcodes\n",
    "\n",
    "\n",
    "pprint.pprint(audit_postcode(OSMFILE))"
   ]
  },
  {
   "cell_type": "markdown",
   "metadata": {},
   "source": [
    "Some of the postal codes are in 9 digit form instead of the more common 5 digit form, and the last two of the set begin with CA. There is also an entry 1982, which isn't a postal code at all. It is hard to guess what the user meant without looking at the entire entry. I looked up all of the postal codes to make sure they are part of Santa Cruz County. The only out of place code is 95003, which is Alviso, CA, a town just north of San Jose, CA. We will look at the full entry in MongoDB to try to make sense of it."
   ]
  },
  {
   "cell_type": "markdown",
   "metadata": {},
   "source": [
    "##Converting OSM to JSON"
   ]
  },
  {
   "cell_type": "markdown",
   "metadata": {},
   "source": [
    "Before we upload the data to MongoDB, we have to rewrite it in JSON form. We only want to process top-level tags \"node\" and \"way\", turning their attributes in key/value pairs, except: \n",
    "- attributes in the CREATED array should be added under a key \"created\"\n",
    "- attributes for latitude and longitude should be added to a \"pos\" array,\n",
    "  for use in geospacial indexing. Make sure the values inside \"pos\" array are floats\n",
    "  and not strings. \n",
    "- if second level tag \"k\" value contains problematic characters, it should be ignored\n",
    "- if second level tag \"k\" value starts with \"addr:\", it should be added to a dictionary \"address\"\n",
    "- if second level tag \"k\" value does not start with \"addr:\", but contains \":\", you can process it\n",
    "  same as any other tag.\n",
    "- if there is a second \":\" that separates the type/direction of a street,\n",
    "  the tag should be ignored.\n",
    "- for \"way\" specifically, tags starting with \"nd ref\" should be added to array called \"node_refs\".\n",
    "\n",
    "We will also extend street name abbreviations and add Avenue or Street to the proper street names. Postal codes, aside from 1982, will be converted to a 5-digit form."
   ]
  },
  {
   "cell_type": "markdown",
   "metadata": {},
   "source": [
    "###A Note on id's\n",
    "\n",
    "\n",
    "When we upload our data into MongoDB, each entry will be assigned a unique id under '_id'. Our data already has an id field, but in order to use it we have to make sure that each 'id' is truely unique in our OSM file. If so, we'll have to match the id value to the '_id' key instead of a 'id' key. \n",
    "If we try to write code to check for uniqueness, we'll essentially have to compare over 250,000 lines against each other. This would take a ton of time to compute so instead I looked up how id's in OSM are created and found this: http://gis.stackexchange.com/questions/103572/are-osm-ids-unique-over-all-object-types. One user claims that OSM id's are composed of type of object, id, version, and combination of tags. Though it is highly unlikely, there is still a possibility that a node and way have the same id number. The larger the file, the more likely it is that we run into a problem. We'll let MongoDB assign unique numbers to the '_id' field."
   ]
  },
  {
   "cell_type": "code",
   "execution_count": 8,
   "metadata": {
    "collapsed": false
   },
   "outputs": [],
   "source": [
    "import codecs\n",
    "import json\n",
    "\n",
    "# Maps endings to proper edits\n",
    "mapping = { \"St\": \"Street\",\n",
    "            \"St.\": \"Street\",\n",
    "            \"Rd\": \"Road\",\n",
    "            \"Ave\": \"Avenue\",\n",
    "            \"Cedar\": \"Cedar Street\",\n",
    "            \"Chestnut\": \"Chestnut Street\",\n",
    "            \"front\": \"Front Street\",\n",
    "            \"Front\": \"Front Street\",\n",
    "            \"Merrill\": \"Merrill Street\",\n",
    "            \"Pacific\": \"Pacific Avenue\",\n",
    "            \"Seabright\": \"Seabright Avenue\"\n",
    "          }\n",
    "\n",
    "\n",
    "def update_name(name, mapping):\n",
    "    m = street_type_re.search(name)\n",
    "    m = m.group()\n",
    "    if m in mapping.keys():\n",
    "        name = name.replace(m, mapping[m])\n",
    "\n",
    "    return name\n",
    "\n",
    "# gets rid of 'CA' and converts 9 digit to 5 digit\n",
    "def update_postcode(postcode):\n",
    "    if postcode.startswith('CA'):\n",
    "        postcode = postcode[3:]\n",
    "    \n",
    "    elif len(postcode) > 5:\n",
    "        postcode = postcode[0:5]\n",
    "        \n",
    "    else:\n",
    "        postcode = postcode\n",
    "    \n",
    "    return postcode\n",
    "\n",
    "\n",
    "lower = re.compile(r'^([a-z]|_)*$')\n",
    "lower_colon = re.compile(r'^([a-z]|_)*:([a-z]|_)*$')\n",
    "problemchars = re.compile(r'[=\\+/&<>;\\'\"\\?%#$@\\,\\. \\t\\r\\n]')\n",
    "\n",
    "# attributes in the CREATED array should be added under a key \"created\"\n",
    "CREATED = [\"version\", \"changeset\", \"timestamp\", \"user\", \"uid\"]\n",
    "\n",
    "\n",
    "def shape_element(element):\n",
    "    node = {}\n",
    "    if element.tag == \"node\" or element.tag == \"way\" :\n",
    "        # keep track of type\n",
    "        node['type'] = element.tag\n",
    "        node['created'] = {}\n",
    "        for key in element.attrib.keys():\n",
    "            # attributes of \"node\" and \"way\" should be turned into regular key/value\n",
    "            # pairs\n",
    "            # attributes in the CREATED array should be added under a key \"created\"\n",
    "            if key in CREATED:\n",
    "                node['created'][key] = element.attrib[key]\n",
    "                    \n",
    "            elif key not in ['lat', 'lon']:\n",
    "                node[key] = element.attrib[key] \n",
    "\n",
    "        # attributes for latitude and longitude should be added to a \"pos\" array\n",
    "        # not all entries will have latitude and longitude\n",
    "        try:\n",
    "            node['pos'] = [float(element.attrib['lat']), float(element.attrib['lon'])]\n",
    "        except:\n",
    "            pass\n",
    "        \n",
    "        # if second level tag \"k\" value contains problematic characters, it should be \n",
    "        # ignored\n",
    "        for child in element:\n",
    "            \n",
    "            if child.tag == 'tag':   \n",
    "                key = child.attrib['k']\n",
    "                value = child.attrib['v']\n",
    "                if re.search(problemchars, key):\n",
    "                    continue\n",
    "                # if second level tag \"k\" value starts with \"addr:\", it should be added \n",
    "                # to a dictionary \"address\"\n",
    "                if key.startswith('addr:'):\n",
    "                    # if there is a second \":\" that separates the type/direction of a \n",
    "                    # street, the tag should be ignored\n",
    "                    if re.search(lower_colon, key[5:]):\n",
    "                        continue\n",
    "                    \n",
    "                    # update street names using mapping if necessary\n",
    "                    elif key == 'addr:street':\n",
    "                        new_value = update_name(value, mapping)\n",
    "                        if 'address' in node:\n",
    "                            node['address']['street'] = new_value\n",
    "                        else:\n",
    "                            node['address'] = {}\n",
    "                            node['address']['street'] = new_value\n",
    "                    \n",
    "                    # fix postal codes\n",
    "                    elif key == 'addr:postcode':\n",
    "                        new_value = update_postcode(value)\n",
    "                        if 'address' in node:\n",
    "                            node['address']['postcode'] = new_value\n",
    "                        else:\n",
    "                            node['address'] = {}\n",
    "                            node['address']['postcode'] = new_value\n",
    "                    \n",
    "                    else:\n",
    "                        if 'address' in node:\n",
    "                            node['address'][key[5:]] = value\n",
    "                        else:\n",
    "                            node['address'] = {}\n",
    "                            node['address'][key[5:]] = value\n",
    "                \n",
    "                # if second level tag \"k\" value does not start with \"addr:\", but \n",
    "                # contains \":\", you can process it same as any other tag.\n",
    "                else:\n",
    "                    node[key] = value\n",
    "            \n",
    "            # second level 'nd' tags should be made into an array\n",
    "            elif child.tag == 'nd':\n",
    "                if 'node_refs' in node:\n",
    "                    node['node_refs'].append(child.attrib['ref'])\n",
    "                else:\n",
    "                    node['node_refs'] = []\n",
    "                    node['node_refs'].append(child.attrib['ref'])\n",
    "                \n",
    "        return node\n",
    "    else:\n",
    "        return None\n",
    "\n",
    "\n",
    "def process_map(file_in, pretty = False):\n",
    "    file_out = \"{0}.json\".format(file_in)\n",
    "    data = []\n",
    "    with codecs.open(file_out, \"w\") as fo:\n",
    "        for _, element in ET.iterparse(file_in):\n",
    "            el = shape_element(element)\n",
    "            if el:\n",
    "                data.append(el)\n",
    "                if pretty:\n",
    "                    fo.write(json.dumps(el, indent=2)+\"\\n\")\n",
    "                else:\n",
    "                    fo.write(json.dumps(el) + \"\\n\")\n",
    "    return data\n",
    "\n",
    "# NOTE: if you are running this code on your computer, with a larger dataset, \n",
    "# call the process_map procedure with pretty=False. The pretty=True option adds \n",
    "# additional spaces to the output, making it significantly larger.\n",
    "data = process_map('santa-cruz_california.osm', False)"
   ]
  },
  {
   "cell_type": "markdown",
   "metadata": {},
   "source": [
    "This completes auditing and cleaning the data for now. We can now upload the data to MongoDB and explore the data. If necessary, more cleaning can be done there."
   ]
  },
  {
   "cell_type": "markdown",
   "metadata": {},
   "source": [
    "#Cleaning the Data in MongoDB"
   ]
  },
  {
   "cell_type": "markdown",
   "metadata": {},
   "source": [
    "We have uploaded the data as a collection santacruz into a database called maps. There are two options for looking at the data, either through the command line or with python using the pymongo library. Since we are working in an iPython Notebook we will use pymongo. The commands are very similar if not the same.\n",
    "\n",
    "We have three things we have to investigate or fix. We must\n",
    "- look at and update the entry with street name 245.\n",
    "- write Highway 9 consistently.\n",
    "- fix entry with postal code 1982.\n",
    "\n"
   ]
  },
  {
   "cell_type": "markdown",
   "metadata": {},
   "source": [
    "##Street Name 245\n",
    "Next we will look at street name '245' and try to figure out the user's intentions when making this entry."
   ]
  },
  {
   "cell_type": "code",
   "execution_count": 34,
   "metadata": {
    "collapsed": false
   },
   "outputs": [
    {
     "name": "stdout",
     "output_type": "stream",
     "text": [
      "[{u'_id': ObjectId('5647e57367df1b2b7ef6d90e'),\n",
      "  u'address': {u'street': u'245', u'unit': u'V'},\n",
      "  u'created': {u'changeset': u'19816930',\n",
      "               u'timestamp': u'2014-01-05T03:32:28Z',\n",
      "               u'uid': u'173918',\n",
      "               u'user': u'njaard',\n",
      "               u'version': u'1'},\n",
      "  u'id': u'2610436134',\n",
      "  u'name': u'Cutesy Cupcakes',\n",
      "  u'pos': [37.046047, -122.0300636],\n",
      "  u'shop': u'confectionery',\n",
      "  u'type': u'node'}]\n"
     ]
    }
   ],
   "source": [
    "strange_street = db.santacruz.find({'address.street':'245'})\n",
    "pprint.pprint(list(strange_street))"
   ]
  },
  {
   "cell_type": "markdown",
   "metadata": {},
   "source": [
    "In the address dictionary, we have street 245 and unit V. There are two clues to what the address of this document should be. We have a name, Cutesy Cupcakes, and the coordinates listed under the 'pos' key. Since it makes most sense that 245 is the building number, I googled 'Cutesy Cupcakes 245v' and came accross two different addresses. One lists Cutesy Cupcakes at 235 Mt Hermon Road Suite A in Scotts Valley, while the other is right next door at 245V Mt Hermon Road. Yelp and Google Maps list Cutesy Cupcakes at 235 Mt Hermon Road. I think it is safe to go with Yelp and Google Maps. We will also update city and postal code.\n",
    "\n",
    "So far we have been cleaning away abbreviated street names. It makes sense to keep this trend and call the street Mount Hermon Road instead of Mt Hermon Road. "
   ]
  },
  {
   "cell_type": "code",
   "execution_count": 36,
   "metadata": {
    "collapsed": false
   },
   "outputs": [
    {
     "name": "stdout",
     "output_type": "stream",
     "text": [
      "[{u'_id': ObjectId('5647e57367df1b2b7ef6d90e'),\n",
      "  u'address': {u'city': u'Scotts Valley',\n",
      "               u'housenumber': u'245',\n",
      "               u'postcode': u'95066',\n",
      "               u'state': u'CA',\n",
      "               u'street': u'Mount Hermon Road',\n",
      "               u'unit': u'A'},\n",
      "  u'created': {u'changeset': u'19816930',\n",
      "               u'timestamp': u'2014-01-05T03:32:28Z',\n",
      "               u'uid': u'173918',\n",
      "               u'user': u'njaard',\n",
      "               u'version': u'1'},\n",
      "  u'id': u'2610436134',\n",
      "  u'name': u'Cutesy Cupcakes',\n",
      "  u'pos': [37.046047, -122.0300636],\n",
      "  u'shop': u'confectionery',\n",
      "  u'type': u'node'}]\n"
     ]
    }
   ],
   "source": [
    "db.santacruz.update_one(\n",
    "    {\n",
    "        'address.street':'245'\n",
    "    },\n",
    "    {\n",
    "        '$set':{'address':\n",
    "                {\n",
    "                'housenumber':'245',\n",
    "                'street':'Mount Hermon Road',\n",
    "                'unit':'A',\n",
    "                'city':'Scotts Valley',\n",
    "                'state':'CA',\n",
    "                'postcode':'95066'\n",
    "                }\n",
    "               }\n",
    "    }\n",
    ")\n",
    "\n",
    "updated_entry = db.santacruz.find({'id':'2610436134'})\n",
    "\n",
    "pprint.pprint(list(updated_entry))"
   ]
  },
  {
   "cell_type": "markdown",
   "metadata": {},
   "source": [
    "##Highway 9 Problem\n",
    "Let's make all streets called Highway 9 look the same. We know there is at least one document with street Hwy 9 and one with street Hwy. 9. Below we search for those entries and while they are on our screen we will make sure there is no reason for these to be named this way."
   ]
  },
  {
   "cell_type": "code",
   "execution_count": 30,
   "metadata": {
    "collapsed": false
   },
   "outputs": [
    {
     "name": "stdout",
     "output_type": "stream",
     "text": [
      "[{u'_id': ObjectId('5647e57267df1b2b7ef6bfdd'),\n",
      "  u'address': {u'city': u'Felton',\n",
      "               u'housenumber': u'5447',\n",
      "               u'postcode': u'95018',\n",
      "               u'street': u'Hwy. 9'},\n",
      "  u'amenity': u'restaurant',\n",
      "  u'created': {u'changeset': u'16489935',\n",
      "               u'timestamp': u'2013-06-10T00:55:29Z',\n",
      "               u'uid': u'751955',\n",
      "               u'user': u'peterm95018',\n",
      "               u'version': u'2'},\n",
      "  u'cuisine': u'italian',\n",
      "  u'id': u'2338593307',\n",
      "  u'name': u'Oak Tree Ristorante',\n",
      "  u'outdoor_seating': u'yes',\n",
      "  u'phone': u'831-335-5551',\n",
      "  u'pos': [37.040803, -122.072386],\n",
      "  u'takeaway': u'yes',\n",
      "  u'type': u'node',\n",
      "  u'website': u'Http://oaktreetistorante.com'},\n",
      " {u'_id': ObjectId('5647e57267df1b2b7ef6c3e7'),\n",
      "  u'address': {u'city': u'Felton',\n",
      "               u'housenumber': u'6205',\n",
      "               u'postcode': u'95018',\n",
      "               u'street': u'Hwy 9'},\n",
      "  u'amenity': u'restaurant',\n",
      "  u'created': {u'changeset': u'18825021',\n",
      "               u'timestamp': u'2013-11-10T21:25:10Z',\n",
      "               u'uid': u'173918',\n",
      "               u'user': u'njaard',\n",
      "               u'version': u'3'},\n",
      "  u'cuisine': u'pizza',\n",
      "  u'id': u'2371463445',\n",
      "  u'name': u'Redwood Pizza',\n",
      "  u'outdoor_seating': u'yes',\n",
      "  u'pos': [37.0514423, -122.0734682],\n",
      "  u'smoking': u'no',\n",
      "  u'takeaway': u'yes',\n",
      "  u'type': u'node'}]\n"
     ]
    }
   ],
   "source": [
    "from pymongo import MongoClient\n",
    "import pprint\n",
    "\n",
    "client = MongoClient()\n",
    "\n",
    "db = client['maps']\n",
    "\n",
    "wrong_hwy_nine = db.santacruz.find({'address.street':{'$in':['Hwy 9', 'Hwy. 9']}})\n",
    "\n",
    "pprint.pprint(list(wrong_hwy_nine))"
   ]
  },
  {
   "cell_type": "markdown",
   "metadata": {},
   "source": [
    "Nothing peculiar is going on here. The street name was just written in a different manner, so we can go ahead and update both of these entries."
   ]
  },
  {
   "cell_type": "code",
   "execution_count": 32,
   "metadata": {
    "collapsed": false
   },
   "outputs": [
    {
     "name": "stdout",
     "output_type": "stream",
     "text": [
      "[{u'_id': ObjectId('5647e57267df1b2b7ef6bfdd'),\n",
      "  u'address': {u'city': u'Felton',\n",
      "               u'housenumber': u'5447',\n",
      "               u'postcode': u'95018',\n",
      "               u'street': u'Highway 9'},\n",
      "  u'amenity': u'restaurant',\n",
      "  u'created': {u'changeset': u'16489935',\n",
      "               u'timestamp': u'2013-06-10T00:55:29Z',\n",
      "               u'uid': u'751955',\n",
      "               u'user': u'peterm95018',\n",
      "               u'version': u'2'},\n",
      "  u'cuisine': u'italian',\n",
      "  u'id': u'2338593307',\n",
      "  u'name': u'Oak Tree Ristorante',\n",
      "  u'outdoor_seating': u'yes',\n",
      "  u'phone': u'831-335-5551',\n",
      "  u'pos': [37.040803, -122.072386],\n",
      "  u'takeaway': u'yes',\n",
      "  u'type': u'node',\n",
      "  u'website': u'Http://oaktreetistorante.com'},\n",
      " {u'_id': ObjectId('5647e57267df1b2b7ef6c3e7'),\n",
      "  u'address': {u'city': u'Felton',\n",
      "               u'housenumber': u'6205',\n",
      "               u'postcode': u'95018',\n",
      "               u'street': u'Highway 9'},\n",
      "  u'amenity': u'restaurant',\n",
      "  u'created': {u'changeset': u'18825021',\n",
      "               u'timestamp': u'2013-11-10T21:25:10Z',\n",
      "               u'uid': u'173918',\n",
      "               u'user': u'njaard',\n",
      "               u'version': u'3'},\n",
      "  u'cuisine': u'pizza',\n",
      "  u'id': u'2371463445',\n",
      "  u'name': u'Redwood Pizza',\n",
      "  u'outdoor_seating': u'yes',\n",
      "  u'pos': [37.0514423, -122.0734682],\n",
      "  u'smoking': u'no',\n",
      "  u'takeaway': u'yes',\n",
      "  u'type': u'node'}]\n"
     ]
    }
   ],
   "source": [
    "db.santacruz.update_many(\n",
    "    {\n",
    "        'address.street':{'$in':['Hwy 9', 'Hwy. 9']}\n",
    "    },\n",
    "    {\n",
    "        '$set':{'address.street':'Highway 9'}\n",
    "    }\n",
    ")\n",
    "\n",
    "# look up entries to double check work\n",
    "updated_entries = db.santacruz.find({'id':{'$in':['2338593307', '2371463445']}})\n",
    "pprint.pprint(list(updated_entries))\n"
   ]
  },
  {
   "cell_type": "markdown",
   "metadata": {},
   "source": [
    "##Postal Code Problem\n",
    "After cleaning the postal codes earlier, we were still left with one odd document. Let's bring up the document with 1982 as a postal code."
   ]
  },
  {
   "cell_type": "code",
   "execution_count": 19,
   "metadata": {
    "collapsed": false
   },
   "outputs": [
    {
     "name": "stdout",
     "output_type": "stream",
     "text": [
      "[{u'_id': ObjectId('5647e57367df1b2b7ef6f739'),\n",
      "  u'address': {u'city': u'Santa Cruz',\n",
      "               u'housenumber': u'1502',\n",
      "               u'postcode': u'1982',\n",
      "               u'street': u'Pacific Avenue'},\n",
      "  u'created': {u'changeset': u'22074373',\n",
      "               u'timestamp': u'2014-05-01T22:34:11Z',\n",
      "               u'uid': u'2032478',\n",
      "               u'user': u'SarahStierch',\n",
      "               u'version': u'2'},\n",
      "  u'historic': u'building',\n",
      "  u'historic:url': u'http://pdfhost.focus.nps.gov/docs/NRHP/Text/82002273.pdf',\n",
      "  u'id': u'2830369542',\n",
      "  u'name': u'Bank of Santa Cruz County',\n",
      "  u'pos': [36.9753582, -122.0252398],\n",
      "  u'ref:nhrp': u'82002273',\n",
      "  u'type': u'node'}]\n"
     ]
    }
   ],
   "source": [
    "pprint.pprint(list(db.santacruz.find({'address.postcode':'1982'})))"
   ]
  },
  {
   "cell_type": "markdown",
   "metadata": {},
   "source": [
    "This document is for Bank of Santa Cruz County found at 1502 Pacific Avenue. Some quick research on the address tells us that this building is now a clothing store, but the Bank of Santa Cruz County building is a historic landmark. The address is correct, but the postal code should be 95060."
   ]
  },
  {
   "cell_type": "code",
   "execution_count": 33,
   "metadata": {
    "collapsed": false
   },
   "outputs": [
    {
     "name": "stdout",
     "output_type": "stream",
     "text": [
      "[{u'_id': ObjectId('5647e57367df1b2b7ef6f739'),\n",
      "  u'address': {u'city': u'Santa Cruz',\n",
      "               u'housenumber': u'1502',\n",
      "               u'postcode': u'95060',\n",
      "               u'street': u'Pacific Avenue'},\n",
      "  u'created': {u'changeset': u'22074373',\n",
      "               u'timestamp': u'2014-05-01T22:34:11Z',\n",
      "               u'uid': u'2032478',\n",
      "               u'user': u'SarahStierch',\n",
      "               u'version': u'2'},\n",
      "  u'historic': u'building',\n",
      "  u'historic:url': u'http://pdfhost.focus.nps.gov/docs/NRHP/Text/82002273.pdf',\n",
      "  u'id': u'2830369542',\n",
      "  u'name': u'Bank of Santa Cruz County',\n",
      "  u'pos': [36.9753582, -122.0252398],\n",
      "  u'ref:nhrp': u'82002273',\n",
      "  u'type': u'node'}]\n"
     ]
    }
   ],
   "source": [
    "db.santacruz.update_one(\n",
    "    {\n",
    "        'address.postcode':'1982'\n",
    "    },\n",
    "    {\n",
    "        '$set':{'address.postcode':'95060'}\n",
    "    }\n",
    ")\n",
    "\n",
    "updated_entry = db.santacruz.find({'id':'2830369542'})\n",
    "pprint.pprint(list(updated_entry))"
   ]
  },
  {
   "cell_type": "markdown",
   "metadata": {},
   "source": [
    "#Exploring the Data"
   ]
  },
  {
   "cell_type": "markdown",
   "metadata": {},
   "source": [
    "##Entry Types"
   ]
  },
  {
   "cell_type": "code",
   "execution_count": 15,
   "metadata": {
    "collapsed": false
   },
   "outputs": [
    {
     "name": "stdout",
     "output_type": "stream",
     "text": [
      "Number of documents: 278190\n",
      "\n",
      "Number of nodes: 257306\n",
      "\n",
      "Number of ways: 20804\n"
     ]
    }
   ],
   "source": [
    "docs = db.santacruz.find().count()\n",
    "nodes = db.santacruz.find({'type':'node'}).count()\n",
    "ways = db.santacruz.find({'type':'way'}).count()\n",
    "\n",
    "print 'Number of documents:', docs\n",
    "print '\\nNumber of nodes:', nodes\n",
    "print '\\nNumber of ways:', ways"
   ]
  },
  {
   "cell_type": "markdown",
   "metadata": {},
   "source": [
    "##Users"
   ]
  },
  {
   "cell_type": "code",
   "execution_count": 14,
   "metadata": {
    "collapsed": false
   },
   "outputs": [
    {
     "name": "stdout",
     "output_type": "stream",
     "text": [
      "Unique users: 395\n",
      "\n",
      "Top 10 contributing users\n",
      "{u'_id': u'stevea', u'contributions': 158863}\n",
      "{u'_id': u'nmixter', u'contributions': 41746}\n",
      "{u'_id': u'DanHomerick', u'contributions': 25696}\n",
      "{u'_id': u'Apo42', u'contributions': 5822}\n",
      "{u'_id': u'adelman', u'contributions': 5339}\n",
      "{u'_id': u'woodpeck_fixbot', u'contributions': 4546}\n",
      "{u'_id': u'Chris Lawrence', u'contributions': 3017}\n",
      "{u'_id': u'hrutten', u'contributions': 2246}\n",
      "{u'_id': u'RichRico', u'contributions': 1679}\n",
      "{u'_id': u'ZekeFarwell', u'contributions': 1403}\n"
     ]
    }
   ],
   "source": [
    "users = db.santacruz.distinct('created.user')\n",
    "\n",
    "top_users = db.santacruz.aggregate([\n",
    "    {\n",
    "        '$group': {'_id':'$created.user', 'contributions':{'$sum':1}}\n",
    "    },\n",
    "    {\n",
    "        '$sort':{'contributions':-1}\n",
    "    },\n",
    "    {\n",
    "        '$limit':10\n",
    "    }\n",
    "    ])\n",
    "\n",
    "print 'Unique users:', len(users)\n",
    "print '\\nTop 10 contributing users'\n",
    "for doc in top_users:\n",
    "    print doc"
   ]
  },
  {
   "cell_type": "markdown",
   "metadata": {},
   "source": [
    "Note that user stevea has contributed 158863, or 57.1%, of the documents in our collection. According to his wiki, he is very involved in the OSM project in Northen California, specifially in Santa Cruz, Monterey Bay, Silicon Valley, and South Bay. Stevea is interested in imporoving parks, trails, and bike routes starting with Santa Cruz. Along with some professors, stevea hosts mapping parties at UC Santa Cruz. You can read about him on his OSM wiki: http://wiki.openstreetmap.org/wiki/User:Stevea. "
   ]
  },
  {
   "cell_type": "markdown",
   "metadata": {},
   "source": [
    "##Addresses"
   ]
  },
  {
   "cell_type": "code",
   "execution_count": 24,
   "metadata": {
    "collapsed": false
   },
   "outputs": [
    {
     "name": "stdout",
     "output_type": "stream",
     "text": [
      "Postal codes\n",
      "{u'count': 288, u'_id': u'95064'}\n",
      "{u'count': 36, u'_id': u'95060'}\n",
      "{u'count': 12, u'_id': u'95062'}\n",
      "{u'count': 10, u'_id': u'95018'}\n",
      "{u'count': 9, u'_id': u'95066'}\n",
      "{u'count': 7, u'_id': u'95003'}\n",
      "{u'count': 6, u'_id': u'95073'}\n",
      "{u'count': 6, u'_id': u'95010'}\n",
      "{u'count': 5, u'_id': u'95065'}\n",
      "{u'count': 1, u'_id': u'95002'}\n",
      "{u'count': 1, u'_id': u'95041'}\n"
     ]
    }
   ],
   "source": [
    "postcodes = db.santacruz.aggregate([\n",
    "        {\n",
    "            '$match':{'address.postcode':{'$exists':1}}\n",
    "        },\n",
    "        {\n",
    "            '$group':{'_id':'$address.postcode', 'count':{'$sum':1}}\n",
    "        },\n",
    "        {\n",
    "            '$sort':{'count':-1}\n",
    "        }\n",
    "    ])\n",
    "\n",
    "print \"Postal codes\"\n",
    "for doc in postcodes:\n",
    "    print doc"
   ]
  },
  {
   "cell_type": "markdown",
   "metadata": {},
   "source": [
    "The overwhelming majority of documents do not include a postal code in the address section. Of those that do, most are coming from the UC Santa Cruz campus. Let's see if street names follow this trend."
   ]
  },
  {
   "cell_type": "code",
   "execution_count": 23,
   "metadata": {
    "collapsed": false
   },
   "outputs": [
    {
     "name": "stdout",
     "output_type": "stream",
     "text": [
      "Street names\n",
      "{u'count': 35, u'_id': u'Porter-Kresge Road'}\n",
      "{u'count': 20, u'_id': u'Village Road'}\n",
      "{u'count': 18, u'_id': u'Stevenson Service Road'}\n",
      "{u'count': 16, u'_id': u'East Road'}\n",
      "{u'count': 16, u'_id': u'Mount Hermon Road'}\n",
      "{u'count': 14, u'_id': u'Steinhart Way'}\n",
      "{u'count': 14, u'_id': u'Pacific Avenue'}\n",
      "{u'count': 14, u'_id': u'College Eight Service Road'}\n",
      "{u'count': 14, u'_id': u'Cowell-Stevenson Road'}\n",
      "{u'count': 13, u'_id': u'Heller Drive'}\n",
      "{u'count': 13, u'_id': u'Emeline Avenue'}\n",
      "{u'count': 11, u'_id': u'Merrill Road'}\n",
      "{u'count': 10, u'_id': u'Crown Service Road'}\n",
      "{u'count': 10, u'_id': u'College Ten Road'}\n",
      "{u'count': 10, u'_id': u'Soquel Avenue'}\n"
     ]
    }
   ],
   "source": [
    "streetnames = db.santacruz.aggregate([\n",
    "        {\n",
    "            '$match':{'address.street':{'$exists':1}}\n",
    "        },\n",
    "        {\n",
    "            '$group':{'_id':'$address.street', 'count':{'$sum':1}}\n",
    "        },\n",
    "        {\n",
    "            '$sort':{'count':-1}\n",
    "        },\n",
    "        {\n",
    "            '$limit':15\n",
    "        }\n",
    "    ])\n",
    "\n",
    "print \"Street names\"\n",
    "for doc in streetnames:\n",
    "    print doc"
   ]
  },
  {
   "cell_type": "markdown",
   "metadata": {},
   "source": [
    "As expected, only three streets from the list above are off campus. Looking at this data I realize that we may have made a mistake earlier while cleaning the street names. I assumed that Merrill was meant to be Merrill Street in the actual town of Santa Cruz. Since Merrill Road is in the top 15 most common names, it is likely that Merrill was supposed to be Merrill Road. Let's take a look at Merril Street entries, and if necessary, we'll edit the street name."
   ]
  },
  {
   "cell_type": "code",
   "execution_count": 21,
   "metadata": {
    "collapsed": false
   },
   "outputs": [
    {
     "name": "stdout",
     "output_type": "stream",
     "text": [
      "[{u'_id': ObjectId('5647e57267df1b2b7ef62aab'),\n",
      "  u'address': {u'housenumber': u'2039',\n",
      "               u'postcode': u'95062',\n",
      "               u'street': u'Merrill Street'},\n",
      "  u'amenity': u'school',\n",
      "  u'created': {u'changeset': u'11504010',\n",
      "               u'timestamp': u'2012-05-05T03:58:04Z',\n",
      "               u'uid': u'633791',\n",
      "               u'user': u'sla29970',\n",
      "               u'version': u'1'},\n",
      "  u'id': u'1741019936',\n",
      "  u'name': u'Cypress Charter High School',\n",
      "  u'pos': [36.9650004, -121.9831159],\n",
      "  u'type': u'node'}]\n"
     ]
    }
   ],
   "source": [
    "pprint.pprint(list(db.santacruz.find({'address.street':'Merrill Street'})))"
   ]
  },
  {
   "cell_type": "markdown",
   "metadata": {},
   "source": [
    "This time our assumption was correct. In the future we should be careful of streets of the same name but different type."
   ]
  },
  {
   "cell_type": "markdown",
   "metadata": {},
   "source": [
    "##Amenities"
   ]
  },
  {
   "cell_type": "code",
   "execution_count": 39,
   "metadata": {
    "collapsed": false
   },
   "outputs": [
    {
     "name": "stdout",
     "output_type": "stream",
     "text": [
      "Top 10 Amenities\n",
      "{u'count': 947, u'_id': u'parking'}\n",
      "{u'count': 266, u'_id': u'bicycle_parking'}\n",
      "{u'count': 249, u'_id': u'restaurant'}\n",
      "{u'count': 221, u'_id': u'toilets'}\n",
      "{u'count': 194, u'_id': u'bench'}\n",
      "{u'count': 145, u'_id': u'place_of_worship'}\n",
      "{u'count': 107, u'_id': u'school'}\n",
      "{u'count': 99, u'_id': u'recycling'}\n",
      "{u'count': 90, u'_id': u'cafe'}\n",
      "{u'count': 67, u'_id': u'fast_food'}\n"
     ]
    }
   ],
   "source": [
    "amenity = db.santacruz.aggregate([\n",
    "        {\n",
    "            '$match':{'amenity':{'$exists':1}}\n",
    "        },\n",
    "        {\n",
    "            '$group':{'_id':'$amenity', 'count':{'$sum':1}}\n",
    "        },\n",
    "        {\n",
    "            '$sort':{'count':-1}\n",
    "        },\n",
    "        {\n",
    "            '$limit':10\n",
    "        }\n",
    "    ])\n",
    "\n",
    "print 'Top 10 Amenities'\n",
    "for doc in amenity:\n",
    "    print doc"
   ]
  },
  {
   "cell_type": "markdown",
   "metadata": {},
   "source": [
    "It may seem surprising that the two most common amenity tags are parking and bicycle_parking. But our top contributor stevea is the the author of a local bicycle network numbering protocol, CycleNet."
   ]
  },
  {
   "cell_type": "markdown",
   "metadata": {},
   "source": [
    "##Other"
   ]
  },
  {
   "cell_type": "code",
   "execution_count": 37,
   "metadata": {
    "collapsed": false
   },
   "outputs": [
    {
     "name": "stdout",
     "output_type": "stream",
     "text": [
      "Most popular cuisine\n",
      "{u'count': 44, u'_id': u'mexican'}\n",
      "{u'count': 27, u'_id': u'pizza'}\n",
      "{u'count': 24, u'_id': u'chinese'}\n",
      "{u'count': 15, u'_id': u'burger'}\n",
      "{u'count': 14, u'_id': u'japanese'}\n",
      "{u'count': 14, u'_id': u'italian'}\n",
      "{u'count': 11, u'_id': u'thai'}\n",
      "{u'count': 11, u'_id': u'american'}\n",
      "{u'count': 8, u'_id': u'regional'}\n",
      "{u'count': 8, u'_id': u'sandwich'}\n",
      "\n",
      "Religions\n",
      "{u'count': 83, u'_id': u'christian'}\n",
      "{u'count': 4, u'_id': u'buddhist'}\n",
      "{u'count': 3, u'_id': u'jewish'}\n",
      "{u'count': 1, u'_id': u'muslim'}\n",
      "{u'count': 1, u'_id': u'pagan'}\n",
      "\n",
      "Christian denominations\n",
      "{u'count': 11, u'_id': u'baptist'}\n",
      "{u'count': 8, u'_id': u'catholic'}\n",
      "{u'count': 4, u'_id': u'presbyterian'}\n",
      "{u'count': 4, u'_id': u'jehovahs_witness'}\n",
      "{u'count': 3, u'_id': u'episcopal'}\n",
      "{u'count': 3, u'_id': u'lutheran'}\n",
      "{u'count': 3, u'_id': u'methodist'}\n",
      "{u'count': 2, u'_id': u'evangelical'}\n",
      "{u'count': 2, u'_id': u'anglican'}\n",
      "{u'count': 2, u'_id': u'assemblies_of_god'}\n",
      "{u'count': 2, u'_id': u'orthodox'}\n",
      "{u'count': 2, u'_id': u'scientist'}\n",
      "{u'count': 2, u'_id': u'mormon'}\n",
      "{u'count': 1, u'_id': u'quaker'}\n",
      "{u'count': 1, u'_id': u'seventh_day_adventist'}\n",
      "{u'count': 1, u'_id': u'christ_scientist'}\n"
     ]
    }
   ],
   "source": [
    "cuisine = db.santacruz.aggregate([\n",
    "        {\n",
    "            '$match':{'cuisine':{'$exists':1}}\n",
    "        },\n",
    "        {\n",
    "            '$group':{'_id':'$cuisine', 'count':{'$sum':1}}\n",
    "        },\n",
    "        {\n",
    "            '$sort':{'count':-1}\n",
    "        },\n",
    "        {\n",
    "            '$limit':5\n",
    "        }\n",
    "    ])\n",
    "\n",
    "\n",
    "religion = db.santacruz.aggregate([\n",
    "        {\n",
    "            '$match':{'religion':{'$exists':1}}\n",
    "        },\n",
    "        {\n",
    "            '$group':{'_id':'$religion', 'count':{'$sum':1}}\n",
    "        },\n",
    "        {\n",
    "            '$sort':{'count':-1}\n",
    "        }\n",
    "        \n",
    "    ])\n",
    "\n",
    "\n",
    "denomination = db.santacruz.aggregate([\n",
    "        {\n",
    "            '$match':{'religion':'christian','denomination':{'$exists':1}}\n",
    "        },\n",
    "        {\n",
    "            '$group':{'_id':'$denomination', 'count':{'$sum':1}}\n",
    "        },\n",
    "        {\n",
    "            '$sort':{'count':-1}\n",
    "        }\n",
    "    ])\n",
    "\n",
    "\n",
    "print 'Most popular cuisine'\n",
    "for doc in cuisine:\n",
    "    print doc\n",
    "    \n",
    "print '\\nReligions'\n",
    "for doc in religion:\n",
    "    print doc\n",
    "    \n",
    "print '\\nChristian denominations'\n",
    "for doc in denomination:\n",
    "    print doc"
   ]
  },
  {
   "cell_type": "markdown",
   "metadata": {},
   "source": [
    "##Conclusion"
   ]
  },
  {
   "cell_type": "markdown",
   "metadata": {},
   "source": [
    "The original Santa Cruz data was relatively clean. There were not that many over abbreviated streets and most zip codes were in proper 5-digit form. We saw that a fraction of a percent of docs have postal codes. We can sort of see why. In the top 10 amenities we have parking spots, bicycle parking, toilets, and benches. These amenities don't necessarily need specific addresses or postal codes. With that said, the amount of restaurants and places of worship outnumber the amout of documents with postal codes. Therefore, the data can be improved by adding complete addresses where needed. \n",
    "\n",
    "Adding postal codes to addresses can be quite challenging. Not all documents include a city. We can use a different strategy, like basing postal codes on streets. But if we try to update postal codes based on street names, we run into problems when streets, such as Soquel Avenue, span multiple cities. With some knowledge of Santa Cruz County, we can write code for streets that we know span just one area. For example, if we know that Pacific Avenue has a beginning and end within the postal code 95060, then we can update the postal code for all documents with street Pacific Avenue.\n",
    "\n",
    "We will always need to audit and clean our data, but the process can be made easier if we have accurate user input. I suggest that anyone interested in inputing or cleaning OSM data for Santa Cruz to get in touch with user stevea, as he is trying to develop practice for consistent input and refine tags that are used for specific amenities. It sounds like a fun project to take on as a hobby!"
   ]
  }
 ],
 "metadata": {
  "kernelspec": {
   "display_name": "Python 2",
   "language": "python",
   "name": "python2"
  },
  "language_info": {
   "codemirror_mode": {
    "name": "ipython",
    "version": 2
   },
   "file_extension": ".py",
   "mimetype": "text/x-python",
   "name": "python",
   "nbconvert_exporter": "python",
   "pygments_lexer": "ipython2",
   "version": "2.7.10"
  }
 },
 "nbformat": 4,
 "nbformat_minor": 0
}
