{
 "cells": [
  {
   "cell_type": "markdown",
   "metadata": {},
   "source": [
    "#Introduction"
   ]
  },
  {
   "cell_type": "markdown",
   "metadata": {},
   "source": [
    "For this project, we will be auditing and cleaning OpenStreetMap data for Santa Cruz County in California. During the course, we looked at OSM data for Chicago and found inconsistencies in street name abbreviations and postal codes. We will look for the same problems in the Santa Cruz data. After cleaning it up, we will rewrite the data as a JSON file and upload it to MongoDB. We can use MongoDB to explore the data and make any more changes if necessary. "
   ]
  },
  {
   "cell_type": "markdown",
   "metadata": {},
   "source": [
    "# Auditing the Data\n",
    "##Street Name Abbreviations\n",
    "We don't want any abbreviated street names in our data. We expect the last word of each street name to be Street, Avenue, Road, etc. We'll parse through the street names in this set and create a dictionary of unexpected and abbreviated values using *auditing/auditStreetNames.py*.\n",
    "\n",
    "There are a few Avenues, Roads, and Streets written as Ave, Rd, and St respectively. To make the data consistent, we want to chage Ave to Avenue, Rd to Road, and St to Street. We also want to look up Cedar, Chestnut, Front, Merrill, Pacific, and Seabright on another map and see if they are Streets, Avenues, or Roads and change them accordingly. \n",
    "\n",
    "The rest of the unexpected street name endings seem legitimate except for the entry that is just 245. We can look at the full version of this document once we have our data in MongoDB. It is most likely supposed to be a housenumber or apartment number. \n",
    "\n",
    "Highway 9 should be wirtten out consistently. Right now it is written in three different ways. We will perform these tasks as we write the JSON version of the file a little later.  "
   ]
  },
  {
   "cell_type": "markdown",
   "metadata": {},
   "source": [
    "##Postal Code Inconsistencies\n",
    "We now want to look at our set of postal codes. We can write a code similar to our street name audit to print the set of postal codes in our data. There is no need for a dictionary since we want to look at the full postal code entry. Instead we'll just create the set of all postal codes by running *auditing/auditPostcodes.py*.\n",
    "\n",
    "Some of the postal codes are in 9 digit form instead of the more common 5 digit form, and the last two of the set begin with CA. There is also an entry 1982, which isn't a postal code at all. It is hard to guess what the user meant without looking at the entire entry. I looked up all of the postal codes to make sure they are part of Santa Cruz County. The only out of place code is 95003, which is Alviso, CA, a town just north of San Jose, CA. We will look at the full entry in MongoDB to try to make sense of it.\n"
   ]
  },
  {
   "cell_type": "markdown",
   "metadata": {},
   "source": [
    "##Converting OSM to JSON"
   ]
  },
  {
   "cell_type": "markdown",
   "metadata": {},
   "source": [
    "Before we upload the data to MongoDB, we have to rewrite it in JSON form. We only want to process top-level tags \"node\" and \"way\", turning their attributes in key/value pairs, except: \n",
    "- attributes in the CREATED array should be added under a key \"created\"\n",
    "- attributes for latitude and longitude should be added to a \"pos\" array,\n",
    "  for use in geospacial indexing. Make sure the values inside \"pos\" array are floats\n",
    "  and not strings. \n",
    "- if second level tag \"k\" value contains problematic characters, it should be ignored\n",
    "- if second level tag \"k\" value starts with \"addr:\", it should be added to a dictionary \"address\"\n",
    "- if second level tag \"k\" value does not start with \"addr:\", but contains \":\", you can process it\n",
    "  same as any other tag.\n",
    "- if there is a second \":\" that separates the type/direction of a street,\n",
    "  the tag should be ignored.\n",
    "- for \"way\" specifically, tags starting with \"nd ref\" should be added to array called \"node_refs\".\n",
    "\n",
    "We will also extend street name abbreviations and add Avenue or Street to the proper street names. Postal codes, aside from 1982, will be converted to a 5-digit form. We do this by running *auditing/processMap.py*."
   ]
  },
  {
   "cell_type": "markdown",
   "metadata": {},
   "source": [
    "###A Note on id's\n",
    "\n",
    "\n",
    "When we upload our data into MongoDB, each entry will be assigned a unique id under '_id'. Our data already has an id field, but in order to use it we have to make sure that each 'id' is truely unique in our OSM file. If so, we'll have to match the id value to the '_id' key instead of a 'id' key. \n",
    "If we try to write code to check for uniqueness, we'll essentially have to compare over 250,000 lines against each other. This would take a ton of time to compute so instead I looked up how id's in OSM are created and found this: http://gis.stackexchange.com/questions/103572/are-osm-ids-unique-over-all-object-types. One user claims that OSM id's are composed of type of object, id, version, and combination of tags. Though it is highly unlikely, there is still a possibility that a node and way have the same id number. The larger the file, the more likely it is that we run into a problem. We'll let MongoDB assign unique numbers to the '_id' field.\n",
    "\n",
    "This completes auditing and cleaning the data for now. We can now upload the data to MongoDB and explore the data. If necessary, more cleaning can be done there."
   ]
  },
  {
   "cell_type": "markdown",
   "metadata": {},
   "source": [
    "#Cleaning the Data in MongoDB"
   ]
  },
  {
   "cell_type": "markdown",
   "metadata": {},
   "source": [
    "We have uploaded the data as a collection santacruz into a database called maps. There are two options for looking at the data, either through the command line or with python using the pymongo library. Since we are working in an iPython Notebook we will use pymongo. The commands are very similar if not the same.\n",
    "\n",
    "We have three things we have to investigate or fix. We must\n",
    "- look at and update the entry with street name 245.\n",
    "- write Highway 9 consistently.\n",
    "- fix entry with postal code 1982.\n",
    "\n"
   ]
  },
  {
   "cell_type": "markdown",
   "metadata": {},
   "source": [
    "##Street Name 245\n",
    "We want to try to figure out the user's intentions when making the entry with street name 245. We can look at this entry by running *mongodb/streetname245.py*.\n",
    "\n",
    "In the address dictionary, we have street 245 and unit V. There are two clues to what the address of this document should be. We have a name, Cutesy Cupcakes, and the coordinates listed under the 'pos' key. Since it makes most sense that 245 is the building number, I googled 'Cutesy Cupcakes 245v' and came accross two different addresses. One lists Cutesy Cupcakes at 235 Mt Hermon Road Suite A in Scotts Valley, while the other is right next door at 245V Mt Hermon Road. Yelp and Google Maps list Cutesy Cupcakes at 235 Mt Hermon Road. I think it is safe to go with Yelp and Google Maps. We will also update city and postal code.\n",
    "\n",
    "So far we have been cleaning away abbreviated street names. It makes sense to keep this trend and call the street Mount Hermon Road instead of Mt Hermon Road. By running *mongodb/update245.py*, we can update our entry."
   ]
  },
  {
   "cell_type": "markdown",
   "metadata": {},
   "source": [
    "##Highway 9 Problem\n",
    "Let's make all streets called Highway 9 look the same. We know there is at least one document with street Hwy 9 and one with street Hwy. 9. We search for those entries by running *mongodb/wrongHwyNine.py* and make sure there is no reason for these to be named this way.\n",
    "\n",
    "Since these seem to be the same road we can update these entries by running *mongodb/fixHwyNine.py*."
   ]
  },
  {
   "cell_type": "markdown",
   "metadata": {},
   "source": [
    "##Postal Code Problem\n",
    "After cleaning the postal codes earlier, we were still left with one odd document. Let's bring up the document with 1982 as a postal code."
   ]
  },
  {
   "cell_type": "code",
   "execution_count": 19,
   "metadata": {
    "collapsed": false
   },
   "outputs": [
    {
     "name": "stdout",
     "output_type": "stream",
     "text": [
      "[{u'_id': ObjectId('5647e57367df1b2b7ef6f739'),\n",
      "  u'address': {u'city': u'Santa Cruz',\n",
      "               u'housenumber': u'1502',\n",
      "               u'postcode': u'1982',\n",
      "               u'street': u'Pacific Avenue'},\n",
      "  u'created': {u'changeset': u'22074373',\n",
      "               u'timestamp': u'2014-05-01T22:34:11Z',\n",
      "               u'uid': u'2032478',\n",
      "               u'user': u'SarahStierch',\n",
      "               u'version': u'2'},\n",
      "  u'historic': u'building',\n",
      "  u'historic:url': u'http://pdfhost.focus.nps.gov/docs/NRHP/Text/82002273.pdf',\n",
      "  u'id': u'2830369542',\n",
      "  u'name': u'Bank of Santa Cruz County',\n",
      "  u'pos': [36.9753582, -122.0252398],\n",
      "  u'ref:nhrp': u'82002273',\n",
      "  u'type': u'node'}]\n"
     ]
    }
   ],
   "source": [
    "pprint.pprint(list(db.santacruz.find({'address.postcode':'1982'})))"
   ]
  },
  {
   "cell_type": "markdown",
   "metadata": {},
   "source": [
    "This document is for Bank of Santa Cruz County found at 1502 Pacific Avenue. Some quick research on the address tells us that this building is now a clothing store, but the Bank of Santa Cruz County building is a historic landmark. The address is correct, but the postal code should be 95060. Running *mongodb/update1982* will update this entry."
   ]
  },
  {
   "cell_type": "markdown",
   "metadata": {},
   "source": [
    "#Exploring the Data"
   ]
  },
  {
   "cell_type": "markdown",
   "metadata": {},
   "source": [
    "##Entry Types"
   ]
  },
  {
   "cell_type": "code",
   "execution_count": 15,
   "metadata": {
    "collapsed": false
   },
   "outputs": [
    {
     "name": "stdout",
     "output_type": "stream",
     "text": [
      "Number of documents: 278190\n",
      "\n",
      "Number of nodes: 257306\n",
      "\n",
      "Number of ways: 20804\n"
     ]
    }
   ],
   "source": [
    "run exploration/entryTypes.py"
   ]
  },
  {
   "cell_type": "markdown",
   "metadata": {},
   "source": [
    "##Users"
   ]
  },
  {
   "cell_type": "code",
   "execution_count": 14,
   "metadata": {
    "collapsed": false
   },
   "outputs": [
    {
     "name": "stdout",
     "output_type": "stream",
     "text": [
      "Unique users: 395\n",
      "\n",
      "Top 10 contributing users\n",
      "{u'_id': u'stevea', u'contributions': 158863}\n",
      "{u'_id': u'nmixter', u'contributions': 41746}\n",
      "{u'_id': u'DanHomerick', u'contributions': 25696}\n",
      "{u'_id': u'Apo42', u'contributions': 5822}\n",
      "{u'_id': u'adelman', u'contributions': 5339}\n",
      "{u'_id': u'woodpeck_fixbot', u'contributions': 4546}\n",
      "{u'_id': u'Chris Lawrence', u'contributions': 3017}\n",
      "{u'_id': u'hrutten', u'contributions': 2246}\n",
      "{u'_id': u'RichRico', u'contributions': 1679}\n",
      "{u'_id': u'ZekeFarwell', u'contributions': 1403}\n"
     ]
    }
   ],
   "source": [
    "run exploration/topUsers.py"
   ]
  },
  {
   "cell_type": "markdown",
   "metadata": {},
   "source": [
    "Note that user stevea has contributed 158863, or 57.1%, of the documents in our collection. According to his wiki, he is very involved in the OSM project in Northen California, specifially in Santa Cruz, Monterey Bay, Silicon Valley, and South Bay. Stevea is interested in imporoving parks, trails, and bike routes starting with Santa Cruz. Along with some professors, stevea hosts mapping parties at UC Santa Cruz. You can read about him on his OSM wiki: http://wiki.openstreetmap.org/wiki/User:Stevea. "
   ]
  },
  {
   "cell_type": "markdown",
   "metadata": {},
   "source": [
    "##Addresses"
   ]
  },
  {
   "cell_type": "code",
   "execution_count": 24,
   "metadata": {
    "collapsed": false
   },
   "outputs": [
    {
     "name": "stdout",
     "output_type": "stream",
     "text": [
      "Postal codes\n",
      "{u'count': 288, u'_id': u'95064'}\n",
      "{u'count': 36, u'_id': u'95060'}\n",
      "{u'count': 12, u'_id': u'95062'}\n",
      "{u'count': 10, u'_id': u'95018'}\n",
      "{u'count': 9, u'_id': u'95066'}\n",
      "{u'count': 7, u'_id': u'95003'}\n",
      "{u'count': 6, u'_id': u'95073'}\n",
      "{u'count': 6, u'_id': u'95010'}\n",
      "{u'count': 5, u'_id': u'95065'}\n",
      "{u'count': 1, u'_id': u'95002'}\n",
      "{u'count': 1, u'_id': u'95041'}\n"
     ]
    }
   ],
   "source": [
    "run exploration/postcodes.py"
   ]
  },
  {
   "cell_type": "markdown",
   "metadata": {},
   "source": [
    "The overwhelming majority of documents do not include a postal code in the address section. Of those that do, most are coming from the UC Santa Cruz campus. Let's see if street names follow this trend."
   ]
  },
  {
   "cell_type": "code",
   "execution_count": 23,
   "metadata": {
    "collapsed": false
   },
   "outputs": [
    {
     "name": "stdout",
     "output_type": "stream",
     "text": [
      "Street names\n",
      "{u'count': 35, u'_id': u'Porter-Kresge Road'}\n",
      "{u'count': 20, u'_id': u'Village Road'}\n",
      "{u'count': 18, u'_id': u'Stevenson Service Road'}\n",
      "{u'count': 16, u'_id': u'East Road'}\n",
      "{u'count': 16, u'_id': u'Mount Hermon Road'}\n",
      "{u'count': 14, u'_id': u'Steinhart Way'}\n",
      "{u'count': 14, u'_id': u'Pacific Avenue'}\n",
      "{u'count': 14, u'_id': u'College Eight Service Road'}\n",
      "{u'count': 14, u'_id': u'Cowell-Stevenson Road'}\n",
      "{u'count': 13, u'_id': u'Heller Drive'}\n",
      "{u'count': 13, u'_id': u'Emeline Avenue'}\n",
      "{u'count': 11, u'_id': u'Merrill Road'}\n",
      "{u'count': 10, u'_id': u'Crown Service Road'}\n",
      "{u'count': 10, u'_id': u'College Ten Road'}\n",
      "{u'count': 10, u'_id': u'Soquel Avenue'}\n"
     ]
    }
   ],
   "source": [
    "run exploration/streetNames.py"
   ]
  },
  {
   "cell_type": "markdown",
   "metadata": {},
   "source": [
    "As expected, only three streets from the list above are off campus. Looking at this data I realize that we may have made a mistake earlier while cleaning the street names. I assumed that Merrill was meant to be Merrill Street in the actual town of Santa Cruz. Since Merrill Road is in the top 15 most common names, it is likely that Merrill was supposed to be Merrill Road. Let's take a look at Merril Street entries, and if necessary, we'll edit the street name."
   ]
  },
  {
   "cell_type": "code",
   "execution_count": 21,
   "metadata": {
    "collapsed": false
   },
   "outputs": [
    {
     "name": "stdout",
     "output_type": "stream",
     "text": [
      "[{u'_id': ObjectId('5647e57267df1b2b7ef62aab'),\n",
      "  u'address': {u'housenumber': u'2039',\n",
      "               u'postcode': u'95062',\n",
      "               u'street': u'Merrill Street'},\n",
      "  u'amenity': u'school',\n",
      "  u'created': {u'changeset': u'11504010',\n",
      "               u'timestamp': u'2012-05-05T03:58:04Z',\n",
      "               u'uid': u'633791',\n",
      "               u'user': u'sla29970',\n",
      "               u'version': u'1'},\n",
      "  u'id': u'1741019936',\n",
      "  u'name': u'Cypress Charter High School',\n",
      "  u'pos': [36.9650004, -121.9831159],\n",
      "  u'type': u'node'}]\n"
     ]
    }
   ],
   "source": [
    "pprint.pprint(list(db.santacruz.find({'address.street':'Merrill Street'})))"
   ]
  },
  {
   "cell_type": "markdown",
   "metadata": {},
   "source": [
    "This time our assumption was correct. In the future we should be careful of streets of the same name but different type."
   ]
  },
  {
   "cell_type": "markdown",
   "metadata": {},
   "source": [
    "##Amenities"
   ]
  },
  {
   "cell_type": "code",
   "execution_count": 6,
   "metadata": {
    "collapsed": false
   },
   "outputs": [
    {
     "name": "stdout",
     "output_type": "stream",
     "text": [
      "Top 10 Amenities\n",
      "{u'count': 947, u'_id': u'parking'}\n",
      "{u'count': 266, u'_id': u'bicycle_parking'}\n",
      "{u'count': 249, u'_id': u'restaurant'}\n",
      "{u'count': 221, u'_id': u'toilets'}\n",
      "{u'count': 194, u'_id': u'bench'}\n",
      "{u'count': 145, u'_id': u'place_of_worship'}\n",
      "{u'count': 107, u'_id': u'school'}\n",
      "{u'count': 99, u'_id': u'recycling'}\n",
      "{u'count': 90, u'_id': u'cafe'}\n",
      "{u'count': 67, u'_id': u'fast_food'}\n"
     ]
    }
   ],
   "source": [
    "run exploration/amenities.py"
   ]
  },
  {
   "cell_type": "markdown",
   "metadata": {},
   "source": [
    "It may seem surprising that the two most common amenity tags are parking and bicycle_parking. But our top contributor stevea is the the author of a local bicycle network numbering protocol, CycleNet."
   ]
  },
  {
   "cell_type": "markdown",
   "metadata": {},
   "source": [
    "##Other"
   ]
  },
  {
   "cell_type": "code",
   "execution_count": 5,
   "metadata": {
    "collapsed": false
   },
   "outputs": [
    {
     "name": "stdout",
     "output_type": "stream",
     "text": [
      "Most popular cuisine\n",
      "{u'count': 44, u'_id': u'mexican'}\n",
      "{u'count': 27, u'_id': u'pizza'}\n",
      "{u'count': 24, u'_id': u'chinese'}\n",
      "{u'count': 15, u'_id': u'burger'}\n",
      "{u'count': 14, u'_id': u'italian'}\n",
      "\n",
      "Religions\n",
      "{u'count': 83, u'_id': u'christian'}\n",
      "{u'count': 4, u'_id': u'buddhist'}\n",
      "{u'count': 3, u'_id': u'jewish'}\n",
      "{u'count': 1, u'_id': u'muslim'}\n",
      "{u'count': 1, u'_id': u'pagan'}\n",
      "\n",
      "Christian denominations\n",
      "{u'count': 11, u'_id': u'baptist'}\n",
      "{u'count': 8, u'_id': u'catholic'}\n",
      "{u'count': 4, u'_id': u'presbyterian'}\n",
      "{u'count': 4, u'_id': u'jehovahs_witness'}\n",
      "{u'count': 3, u'_id': u'lutheran'}\n"
     ]
    }
   ],
   "source": [
    "run exploration/other.py"
   ]
  },
  {
   "cell_type": "markdown",
   "metadata": {},
   "source": [
    "#Conclusion"
   ]
  },
  {
   "cell_type": "markdown",
   "metadata": {},
   "source": [
    "The original Santa Cruz data was relatively clean. There were not that many over abbreviated streets and most zip codes were in proper 5-digit form. We saw that a fraction of a percent of docs have postal codes. We can sort of see why. In the top 10 amenities we have parking spots, bicycle parking, toilets, and benches. These amenities don't necessarily need specific addresses or postal codes. With that said, the amount of restaurants and places of worship outnumber the amout of documents with postal codes. Therefore, the data can be improved by adding complete addresses where needed. \n",
    "\n",
    "Adding postal codes to addresses can be quite challenging. Not all documents include a city. We can use a different strategy, like basing postal codes on streets. But if we try to update postal codes based on street names, we run into problems when streets, such as Soquel Avenue, span multiple cities. With some knowledge of Santa Cruz County, we can write code for streets that we know span just one area. For example, if we know that Pacific Avenue has a beginning and end within the postal code 95060, then we can update the postal code for all documents with street Pacific Avenue.\n",
    "\n",
    "We will always need to audit and clean our data, but the process can be made easier if we have accurate user input. I suggest that anyone interested in inputing or cleaning OSM data for Santa Cruz to get in touch with users in the area, such as stevea, as he is trying to develop practice for consistent input and refine tags that are used for specific amenities. It sounds like a fun project to take on as a hobby!"
   ]
  }
 ],
 "metadata": {
  "kernelspec": {
   "display_name": "Python 2",
   "language": "python",
   "name": "python2"
  },
  "language_info": {
   "codemirror_mode": {
    "name": "ipython",
    "version": 2
   },
   "file_extension": ".py",
   "mimetype": "text/x-python",
   "name": "python",
   "nbconvert_exporter": "python",
   "pygments_lexer": "ipython2",
   "version": "2.7.10"
  }
 },
 "nbformat": 4,
 "nbformat_minor": 0
}
